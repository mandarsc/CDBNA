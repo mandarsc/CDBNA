{
 "cells": [
  {
   "cell_type": "code",
   "execution_count": 51,
   "metadata": {},
   "outputs": [
    {
     "name": "stdout",
     "output_type": "stream",
     "text": [
      "The autoreload extension is already loaded. To reload it, use:\n",
      "  %reload_ext autoreload\n"
     ]
    }
   ],
   "source": [
    "%load_ext autoreload\n",
    "%autoreload 2\n",
    "\n",
    "# Standard libraries\n",
    "import logging\n",
    "from os.path import join\n",
    "\n",
    "# Libraries for graphs\n",
    "import community\n",
    "import networkx as nx\n",
    "\n",
    "# Libraries for matrix computations\n",
    "import matplotlib.pyplot as plt\n",
    "from matplotlib import rcParams\n",
    "import numpy as np\n",
    "import numpy.matlib as matlib\n",
    "import pandas as pd\n",
    "\n",
    "# Libraries for sparse matrices and eigenvectors\n",
    "from scipy.sparse import diags\n",
    "from scipy.sparse.linalg import eigs\n",
    "from scipy.stats import hypergeom, pearsonr\n",
    "\n",
    "# Import functions from nibna module\n",
    "from nibna import build_graph_from_edge_list, build_node_importance_dataframe, compute_importance_score_threshold, \\\n",
    "compute_eigenvectors, compute_node_importance, compute_pearson_correlation, configure_logging, NUM_miR, \\\n",
    "perform_community_detection, validate_top_k_coding_genes\n",
    "\n",
    "# configure_logging()\n",
    "logger = logging.getLogger()\n",
    "logger.setLevel(logging.INFO)"
   ]
  },
  {
   "cell_type": "code",
   "execution_count": 47,
   "metadata": {},
   "outputs": [],
   "source": [
    "ROOT_DIR = \"/Users/mandar.chaudhary/Research Wednesday/CancerDriver/\"\n",
    "DATA_DIR = \"/Users/mandar.chaudhary/Research Wednesday/NIBNA/Data/\"\n",
    "SUBTYPE_DATA_DIR = \"/Users/mandar.chaudhary/Research Wednesday/CancerDriver/Data/Output/CancerSubtype\""
   ]
  },
  {
   "cell_type": "markdown",
   "metadata": {},
   "source": [
    "## Initialize cancer subtypes"
   ]
  },
  {
   "cell_type": "code",
   "execution_count": 28,
   "metadata": {},
   "outputs": [],
   "source": [
    "subtypes = [\"Basal\", \"Her2\", \"LumA\", \"LumB\", \"Normal\"]"
   ]
  },
  {
   "cell_type": "markdown",
   "metadata": {},
   "source": [
    "## Perform NIBNA on each cancer subtype"
   ]
  },
  {
   "cell_type": "code",
   "execution_count": 30,
   "metadata": {},
   "outputs": [
    {
     "name": "stderr",
     "output_type": "stream",
     "text": [
      "INFO:root:Subtype: Basal\n",
      "INFO:root:Dataframe size: (158, 7726)\n",
      "INFO:root:Computing pearson correlation\n",
      "INFO:root:Building graph from edge list\n",
      "INFO:nibna:Number of nodes: 5927, and number of edges: 28654\n",
      "INFO:nibna:Graph edge weights: 9521.478279272036\n",
      "INFO:root:Computing node importance\n",
      "INFO:nibna:Number of communities in G: 44\n",
      "INFO:root:Cutoff threshold: 271\n",
      "INFO:root:Subtype: Her2\n",
      "INFO:root:Dataframe size: (108, 7726)\n",
      "INFO:root:Computing pearson correlation\n",
      "INFO:root:Building graph from edge list\n",
      "INFO:nibna:Number of nodes: 4720, and number of edges: 11972\n",
      "INFO:nibna:Graph edge weights: 4828.463222880856\n",
      "INFO:root:Computing node importance\n",
      "INFO:nibna:Number of communities in G: 113\n",
      "INFO:root:Cutoff threshold: 532\n",
      "INFO:root:Subtype: LumA\n",
      "INFO:root:Dataframe size: (221, 7726)\n",
      "INFO:root:Computing pearson correlation\n",
      "INFO:root:Building graph from edge list\n",
      "INFO:nibna:Number of nodes: 6341, and number of edges: 43998\n",
      "INFO:nibna:Graph edge weights: 13274.756588130405\n",
      "INFO:root:Computing node importance\n",
      "INFO:nibna:Number of communities in G: 37\n",
      "INFO:root:Cutoff threshold: 236\n",
      "INFO:root:Subtype: LumB\n",
      "INFO:root:Dataframe size: (165, 7726)\n",
      "INFO:root:Computing pearson correlation\n",
      "INFO:root:Building graph from edge list\n",
      "INFO:nibna:Number of nodes: 5432, and number of edges: 19044\n",
      "INFO:nibna:Graph edge weights: 6430.676741174153\n",
      "INFO:root:Computing node importance\n",
      "INFO:nibna:Number of communities in G: 65\n",
      "INFO:root:Cutoff threshold: 379\n",
      "INFO:root:Subtype: Normal\n",
      "INFO:root:Dataframe size: (95, 7726)\n",
      "INFO:root:Computing pearson correlation\n",
      "INFO:root:Building graph from edge list\n",
      "INFO:nibna:Number of nodes: 5199, and number of edges: 14439\n",
      "INFO:nibna:Graph edge weights: 6219.954786075486\n",
      "INFO:root:Computing node importance\n",
      "INFO:nibna:Number of communities in G: 90\n",
      "INFO:root:Cutoff threshold: 471\n"
     ]
    }
   ],
   "source": [
    "cancer_network_filename = 'pVal_cancer_network.csv'\n",
    "for subtype in subtypes:\n",
    "    logger.info('Subtype: {0}'.format(subtype))\n",
    "    # Read Mes data and network\n",
    "    filename = subtype.lower() + '_cancer_data.csv'\n",
    "    subtype_df = pd.read_csv(join(SUBTYPE_DATA_DIR, subtype, filename))\n",
    "    subtype_network = pd.read_csv(join(SUBTYPE_DATA_DIR, subtype, cancer_network_filename))\n",
    "    logger.info('Dataframe size: {0}'.format(subtype_df.shape))\n",
    "    logger.info('Computing pearson correlation')\n",
    "    subtype_network = compute_pearson_correlation(subtype_network, subtype_df)\n",
    "    \n",
    "    logger.info('Building graph from edge list')\n",
    "    G = build_graph_from_edge_list(subtype_network, is_weighted=True)\n",
    "    \n",
    "    np.random.seed(10)\n",
    "    n_communities = perform_community_detection(G)\n",
    "    adj_eigen_vectors = compute_eigenvectors(G, n_communities)\n",
    "    \n",
    "    logger.info('Computing node importance')\n",
    "    I = compute_node_importance(G.number_of_nodes(), n_communities, np.real(adj_eigen_vectors))\n",
    "    I_df = build_node_importance_dataframe(G, I)\n",
    "    \n",
    "    cutoff_threshold = compute_importance_score_threshold(I_df.importance.values)\n",
    "    logger.info('Cutoff threshold: {0}'.format(cutoff_threshold))\n",
    "    \n",
    "    critical_nodes = pd.DataFrame(I_df.node.iloc[:cutoff_threshold])\n",
    "    \n",
    "    critical_nodes[\"Type\"] = \"coding\"\n",
    "    critical_nodes.loc[critical_nodes.node.isin(subtype_df.columns[:NUM_miR]), \"Type\"] = \"non-coding\"\n",
    "    \n",
    "    critical_nodes.to_csv(join(DATA_DIR, subtype, 'critical_nodes.csv'))"
   ]
  },
  {
   "cell_type": "markdown",
   "metadata": {},
   "source": [
    "## Load gold standard data for validation"
   ]
  },
  {
   "cell_type": "code",
   "execution_count": 48,
   "metadata": {},
   "outputs": [],
   "source": [
    "mRNAs_df = pd.read_csv(join(DATA_DIR, \"mRNAs_data.csv\"))"
   ]
  },
  {
   "cell_type": "code",
   "execution_count": 49,
   "metadata": {},
   "outputs": [],
   "source": [
    "gold_standard_cgc_df = pd.read_csv(join(DATA_DIR, \"Census_allFri Sep 28 07_39_37 2018.tsv\"), sep=\"\\t\")\n",
    "gold_standard_cgc = gold_standard_cgc_df[\"Gene Symbol\"]"
   ]
  },
  {
   "cell_type": "markdown",
   "metadata": {},
   "source": [
    "## Validate coding genes estimated by NIBNA"
   ]
  },
  {
   "cell_type": "code",
   "execution_count": 81,
   "metadata": {},
   "outputs": [
    {
     "name": "stderr",
     "output_type": "stream",
     "text": [
      "INFO:root:Cancer subtype: Basal\n",
      "INFO:root:# estimated drivers: 271, # validated coding genes: 68\n",
      "INFO:root:p_value for coding drivers: 2.967787127161614e-10\n",
      "INFO:root:Cancer subtype: Her2\n",
      "INFO:root:# estimated drivers: 532, # validated coding genes: 120\n",
      "INFO:root:p_value for coding drivers: 9.249045973547254e-12\n",
      "INFO:root:Cancer subtype: LumA\n",
      "INFO:root:# estimated drivers: 236, # validated coding genes: 56\n",
      "INFO:root:p_value for coding drivers: 8.294983333545503e-08\n",
      "INFO:root:Cancer subtype: LumB\n",
      "INFO:root:# estimated drivers: 379, # validated coding genes: 86\n",
      "INFO:root:p_value for coding drivers: 4.113109852710295e-10\n",
      "INFO:root:Cancer subtype: Normal\n",
      "INFO:root:# estimated drivers: 471, # validated coding genes: 101\n",
      "INFO:root:p_value for coding drivers: 3.731110975735419e-10\n"
     ]
    }
   ],
   "source": [
    "for subtype in subtypes:\n",
    "    subtype_critical_nodes = pd.read_csv(join(SUBTYPE_DATA_DIR, subtype, \"critical_nodes.csv\"))\n",
    "    subtype_critical_coding_nodes = subtype_critical_nodes.loc[subtype_critical_nodes.node.isin(mRNAs_df.columns), ].copy()\n",
    "    subtype_critical_coding_nodes['In CGC'] = 'No'\n",
    "    subtype_critical_coding_nodes.loc[subtype_critical_coding_nodes.node.isin(gold_standard_cgc), 'In CGC'] = 'Yes'\n",
    "    logger.info('Cancer subtype: {0}'.format(subtype))\n",
    "    logger.info('# estimated drivers: {0}, # validated coding genes: {1}'.format(len(subtype_critical_nodes), (subtype_critical_coding_nodes['In CGC']=='Yes').sum()))\n",
    "    n_A = len(subtype_critical_nodes) # number of estimated drivers\n",
    "    n_B = len(gold_standard_cgc) # number of signatures\n",
    "    n_C = 839+5168 # number of genes\n",
    "    n_A_B = (subtype_critical_coding_nodes['In CGC']=='Yes').sum() # number of drivers validated\n",
    "    p_value = 1 - hypergeom.cdf(n_A_B, n_C, n_B, n_A)\n",
    "    logger.info(\"p_value for coding drivers: {0}\".format(p_value))"
   ]
  },
  {
   "cell_type": "code",
   "execution_count": 73,
   "metadata": {},
   "outputs": [
    {
     "data": {
      "text/plain": [
       "(471, 438)"
      ]
     },
     "execution_count": 73,
     "metadata": {},
     "output_type": "execute_result"
    }
   ],
   "source": [
    "len(subtype_critical_nodes), len(subtype_critical_coding_nodes)"
   ]
  }
 ],
 "metadata": {
  "kernelspec": {
   "display_name": "Python 3",
   "language": "python",
   "name": "python3"
  },
  "language_info": {
   "codemirror_mode": {
    "name": "ipython",
    "version": 3
   },
   "file_extension": ".py",
   "mimetype": "text/x-python",
   "name": "python",
   "nbconvert_exporter": "python",
   "pygments_lexer": "ipython3",
   "version": "3.7.2"
  }
 },
 "nbformat": 4,
 "nbformat_minor": 2
}
