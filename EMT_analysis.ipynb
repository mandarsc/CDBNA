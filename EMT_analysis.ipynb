{
 "cells": [
  {
   "cell_type": "code",
   "execution_count": 1,
   "metadata": {},
   "outputs": [],
   "source": [
    "%load_ext autoreload\n",
    "%autoreload 2\n",
    "\n",
    "# Standard libraries\n",
    "from os.path import join\n",
    "\n",
    "# Libraries for graphs\n",
    "import community\n",
    "import networkx as nx\n",
    "\n",
    "# Libraries for matrix computations\n",
    "import matplotlib.pyplot as plt\n",
    "from matplotlib import rcParams\n",
    "import numpy as np\n",
    "import numpy.matlib as matlib\n",
    "import pandas as pd\n",
    "\n",
    "# Libraries for sparse matrices and eigenvectors\n",
    "from scipy.sparse import diags\n",
    "from scipy.sparse.linalg import eigs\n",
    "from scipy.stats import hypergeom, pearsonr\n",
    "\n",
    "# Import functions from nibna module\n",
    "from nibna import build_graph_from_edge_list, build_node_importance_dataframe, compute_eigenvectors, compute_node_importance, compute_pearson_correlation, perform_community_detection"
   ]
  },
  {
   "cell_type": "markdown",
   "metadata": {},
   "source": [
    "## Initialize constants"
   ]
  },
  {
   "cell_type": "code",
   "execution_count": 2,
   "metadata": {},
   "outputs": [],
   "source": [
    "NUM_miR = 1719\n",
    "NUM_mR = 20101\n",
    "NUM_TF = 839"
   ]
  },
  {
   "cell_type": "markdown",
   "metadata": {},
   "source": [
    "## Read Mes data"
   ]
  },
  {
   "cell_type": "code",
   "execution_count": 35,
   "metadata": {},
   "outputs": [],
   "source": [
    "# Read Mes data and network\n",
    "mes_df = pd.read_csv('../CancerDriver/Data/Output/EMT/Mes/pVal_cancer_data.csv')\n",
    "mes_network = pd.read_csv('../CancerDriver/Data/Output/EMT/Mes/pVal_cancer_network.csv')"
   ]
  },
  {
   "cell_type": "markdown",
   "metadata": {},
   "source": [
    "## Run NIBNA"
   ]
  },
  {
   "cell_type": "code",
   "execution_count": 36,
   "metadata": {},
   "outputs": [],
   "source": [
    "mes_network = compute_pearson_correlation(mes_network, mes_df)"
   ]
  },
  {
   "cell_type": "code",
   "execution_count": 65,
   "metadata": {},
   "outputs": [],
   "source": [
    "G_mes = build_graph_from_edge_list(mes_network, is_weighted=False)"
   ]
  },
  {
   "cell_type": "code",
   "execution_count": 66,
   "metadata": {},
   "outputs": [
    {
     "data": {
      "text/plain": [
       "7190"
      ]
     },
     "execution_count": 66,
     "metadata": {},
     "output_type": "execute_result"
    }
   ],
   "source": [
    "len(G_mes.nodes())"
   ]
  },
  {
   "cell_type": "code",
   "execution_count": 67,
   "metadata": {},
   "outputs": [],
   "source": [
    "np.random.seed(10)\n",
    "n_communities_mes = perform_community_detection(G_mes)"
   ]
  },
  {
   "cell_type": "code",
   "execution_count": 68,
   "metadata": {},
   "outputs": [],
   "source": [
    "mes_adj_eigen_vectors = compute_eigenvectors(G_mes, n_communities_mes)"
   ]
  },
  {
   "cell_type": "code",
   "execution_count": 69,
   "metadata": {},
   "outputs": [],
   "source": [
    "I_mes = compute_node_importance(G_mes.number_of_nodes(), n_communities_mes, np.real(mes_adj_eigen_vectors))\n",
    "I_mes_df = build_node_importance_dataframe(G_mes, I_mes)"
   ]
  },
  {
   "cell_type": "code",
   "execution_count": 70,
   "metadata": {},
   "outputs": [
    {
     "data": {
      "text/html": [
       "<div>\n",
       "<style scoped>\n",
       "    .dataframe tbody tr th:only-of-type {\n",
       "        vertical-align: middle;\n",
       "    }\n",
       "\n",
       "    .dataframe tbody tr th {\n",
       "        vertical-align: top;\n",
       "    }\n",
       "\n",
       "    .dataframe thead th {\n",
       "        text-align: right;\n",
       "    }\n",
       "</style>\n",
       "<table border=\"1\" class=\"dataframe\">\n",
       "  <thead>\n",
       "    <tr style=\"text-align: right;\">\n",
       "      <th></th>\n",
       "      <th>node</th>\n",
       "      <th>importance</th>\n",
       "    </tr>\n",
       "  </thead>\n",
       "  <tbody>\n",
       "    <tr>\n",
       "      <th>0</th>\n",
       "      <td>hsa-miR-27a-5p</td>\n",
       "      <td>0.012073</td>\n",
       "    </tr>\n",
       "    <tr>\n",
       "      <th>1</th>\n",
       "      <td>hsa-miR-103a-3p</td>\n",
       "      <td>0.011378</td>\n",
       "    </tr>\n",
       "    <tr>\n",
       "      <th>2</th>\n",
       "      <td>hsa-miR-92a-1-5p</td>\n",
       "      <td>0.011216</td>\n",
       "    </tr>\n",
       "    <tr>\n",
       "      <th>3</th>\n",
       "      <td>hsa-miR-23b-5p</td>\n",
       "      <td>0.011073</td>\n",
       "    </tr>\n",
       "    <tr>\n",
       "      <th>4</th>\n",
       "      <td>hsa-miR-19a-5p</td>\n",
       "      <td>0.010375</td>\n",
       "    </tr>\n",
       "  </tbody>\n",
       "</table>\n",
       "</div>"
      ],
      "text/plain": [
       "               node  importance\n",
       "0    hsa-miR-27a-5p    0.012073\n",
       "1   hsa-miR-103a-3p    0.011378\n",
       "2  hsa-miR-92a-1-5p    0.011216\n",
       "3    hsa-miR-23b-5p    0.011073\n",
       "4    hsa-miR-19a-5p    0.010375"
      ]
     },
     "execution_count": 70,
     "metadata": {},
     "output_type": "execute_result"
    }
   ],
   "source": [
    "I_mes_df.head()"
   ]
  },
  {
   "cell_type": "code",
   "execution_count": 87,
   "metadata": {},
   "outputs": [
    {
     "data": {
      "image/png": "[encoded data removed]",
      "text/plain": [
       "<Figure size 1080x360 with 1 Axes>"
      ]
     },
     "metadata": {
      "needs_background": "light"
     },
     "output_type": "display_data"
    }
   ],
   "source": [
    "def compute_importance_score_threshold(importance_scores):  \n",
    "    n_points = len(importance_scores)\n",
    "    all_coord = np.vstack((range(n_points), importance_scores)).T\n",
    "    np.array([range(n_points), importance_scores])\n",
    "    \n",
    "    first_point = all_coord[0]\n",
    "    line_vec = all_coord[-1] - all_coord[0]\n",
    "    line_vec_norm = line_vec / np.sqrt(np.sum(line_vec**2))\n",
    "    vec_from_first = all_coord - first_point\n",
    "    scalar_product = np.sum(vec_from_first * matlib.repmat(line_vec_norm, n_points, 1), axis=1)\n",
    "    vec_from_first_parallel = np.outer(scalar_product, line_vec_norm)\n",
    "    vec_to_line = vec_from_first - vec_from_first_parallel\n",
    "    dist_to_line = np.sqrt(np.sum(vec_to_line ** 2, axis=1))\n",
    "    idx_of_best_point = np.argmax(dist_to_line)    \n",
    "    return idx_of_best_point\n",
    "    \n",
    "cutoff_threshold_mes = compute_importance_score_threshold(I_mes_df.importance.values)\n",
    "\n",
    "# Plot importance scores\n",
    "rcParams['figure.figsize'] = 15, 5\n",
    "plt.plot(np.sort(I_mes)[::-1], '+')\n",
    "plt.xlabel('Mes Nodes')\n",
    "plt.ylabel('Importance score')\n",
    "plt.axvline(cutoff_threshold_mes, color='red', label='cutoff value = {0}'.format(cutoff_threshold_mes))\n",
    "plt.legend(loc='upper right')\n",
    "plt.title('Mes network')\n",
    "plt.show()"
   ]
  },
  {
   "cell_type": "code",
   "execution_count": 72,
   "metadata": {},
   "outputs": [],
   "source": [
    "mes_critical_nodes = pd.DataFrame(I_mes_df.node.iloc[:cutoff_threshold_mes])"
   ]
  },
  {
   "cell_type": "code",
   "execution_count": 73,
   "metadata": {},
   "outputs": [],
   "source": [
    "mes_critical_nodes[\"Type\"] = \"coding\"\n",
    "mes_critical_nodes.loc[mes_critical_nodes.node.isin(mes_df.columns[:NUM_miR]), \"Type\"] = \"non-coding\""
   ]
  },
  {
   "cell_type": "code",
   "execution_count": 74,
   "metadata": {},
   "outputs": [
    {
     "data": {
      "text/plain": [
       "non-coding    118\n",
       "coding        105\n",
       "Name: Type, dtype: int64"
      ]
     },
     "execution_count": 74,
     "metadata": {},
     "output_type": "execute_result"
    }
   ],
   "source": [
    "mes_critical_nodes.Type.value_counts()"
   ]
  },
  {
   "cell_type": "markdown",
   "metadata": {},
   "source": [
    "## Load Coding gold standard data"
   ]
  },
  {
   "cell_type": "code",
   "execution_count": 75,
   "metadata": {},
   "outputs": [],
   "source": [
    "coding_gold_standard_df = pd.read_csv('../CancerDriver/Data/Generic_EMT_signature.csv')\n",
    "noncoding_gold_standard_mes_df = pd.read_csv('../CancerDriver/Data/Output/EMT/Mes/EMT_processed_miRNAs.csv')"
   ]
  },
  {
   "cell_type": "code",
   "execution_count": 76,
   "metadata": {},
   "outputs": [],
   "source": [
    "coding_gold_standard_mes_df = coding_gold_standard_df.loc[coding_gold_standard_df.Epi=='Mes']"
   ]
  },
  {
   "cell_type": "code",
   "execution_count": 77,
   "metadata": {},
   "outputs": [
    {
     "data": {
      "text/html": [
       "<div>\n",
       "<style scoped>\n",
       "    .dataframe tbody tr th:only-of-type {\n",
       "        vertical-align: middle;\n",
       "    }\n",
       "\n",
       "    .dataframe tbody tr th {\n",
       "        vertical-align: top;\n",
       "    }\n",
       "\n",
       "    .dataframe thead th {\n",
       "        text-align: right;\n",
       "    }\n",
       "</style>\n",
       "<table border=\"1\" class=\"dataframe\">\n",
       "  <thead>\n",
       "    <tr style=\"text-align: right;\">\n",
       "      <th></th>\n",
       "      <th>KRT19</th>\n",
       "      <th>Epi</th>\n",
       "    </tr>\n",
       "  </thead>\n",
       "  <tbody>\n",
       "    <tr>\n",
       "      <th>144</th>\n",
       "      <td>GAS1</td>\n",
       "      <td>Mes</td>\n",
       "    </tr>\n",
       "    <tr>\n",
       "      <th>145</th>\n",
       "      <td>CXCL12</td>\n",
       "      <td>Mes</td>\n",
       "    </tr>\n",
       "    <tr>\n",
       "      <th>146</th>\n",
       "      <td>ZEB1</td>\n",
       "      <td>Mes</td>\n",
       "    </tr>\n",
       "    <tr>\n",
       "      <th>147</th>\n",
       "      <td>GLYR1</td>\n",
       "      <td>Mes</td>\n",
       "    </tr>\n",
       "    <tr>\n",
       "      <th>148</th>\n",
       "      <td>FHL1</td>\n",
       "      <td>Mes</td>\n",
       "    </tr>\n",
       "  </tbody>\n",
       "</table>\n",
       "</div>"
      ],
      "text/plain": [
       "      KRT19  Epi\n",
       "144    GAS1  Mes\n",
       "145  CXCL12  Mes\n",
       "146    ZEB1  Mes\n",
       "147   GLYR1  Mes\n",
       "148    FHL1  Mes"
      ]
     },
     "execution_count": 77,
     "metadata": {},
     "output_type": "execute_result"
    }
   ],
   "source": [
    "coding_gold_standard_mes_df.head()"
   ]
  },
  {
   "cell_type": "code",
   "execution_count": 78,
   "metadata": {},
   "outputs": [
    {
     "data": {
      "text/plain": [
       "2"
      ]
     },
     "execution_count": 78,
     "metadata": {},
     "output_type": "execute_result"
    }
   ],
   "source": [
    "validated_coding_candidate_drivers_mes = set(mes_critical_nodes.node[:100]).intersection(set(coding_gold_standard_mes_df.KRT19))\n",
    "len(validated_coding_candidate_drivers_mes)"
   ]
  },
  {
   "cell_type": "code",
   "execution_count": 79,
   "metadata": {},
   "outputs": [
    {
     "data": {
      "text/plain": [
       "25"
      ]
     },
     "execution_count": 79,
     "metadata": {},
     "output_type": "execute_result"
    }
   ],
   "source": [
    "validated_noncoding_candidate_drivers_mes = set(mes_critical_nodes.node).intersection(noncoding_gold_standard_mes_df.V1)\n",
    "len(validated_noncoding_candidate_drivers_mes)"
   ]
  },
  {
   "cell_type": "code",
   "execution_count": 80,
   "metadata": {},
   "outputs": [
    {
     "data": {
      "text/plain": [
       "{'FLI1', 'FYN'}"
      ]
     },
     "execution_count": 80,
     "metadata": {},
     "output_type": "execute_result"
    }
   ],
   "source": [
    "validated_coding_candidate_drivers_mes"
   ]
  },
  {
   "cell_type": "code",
   "execution_count": 86,
   "metadata": {},
   "outputs": [
    {
     "data": {
      "text/plain": [
       "({'hsa-miR-100-5p',\n",
       "  'hsa-miR-106b-5p',\n",
       "  'hsa-miR-130a-5p',\n",
       "  'hsa-miR-130b-5p',\n",
       "  'hsa-miR-146a-5p',\n",
       "  'hsa-miR-146b-5p',\n",
       "  'hsa-miR-149-5p',\n",
       "  'hsa-miR-155-5p',\n",
       "  'hsa-miR-15b-5p',\n",
       "  'hsa-miR-17-5p',\n",
       "  'hsa-miR-181a-5p',\n",
       "  'hsa-miR-182-5p',\n",
       "  'hsa-miR-183-5p',\n",
       "  'hsa-miR-191-5p',\n",
       "  'hsa-miR-21-5p',\n",
       "  'hsa-miR-221-5p',\n",
       "  'hsa-miR-224-5p',\n",
       "  'hsa-miR-23a-5p',\n",
       "  'hsa-miR-29a-5p',\n",
       "  'hsa-miR-375',\n",
       "  'hsa-miR-452-5p',\n",
       "  'hsa-miR-9-5p',\n",
       "  'hsa-miR-92b-5p',\n",
       "  'hsa-miR-93-5p',\n",
       "  'hsa-miR-96-5p'},\n",
       " 25)"
      ]
     },
     "execution_count": 86,
     "metadata": {},
     "output_type": "execute_result"
    }
   ],
   "source": [
    "validated_noncoding_candidate_drivers_mes, len(validated_noncoding_candidate_drivers_mes)"
   ]
  },
  {
   "cell_type": "code",
   "execution_count": 82,
   "metadata": {},
   "outputs": [
    {
     "data": {
      "text/plain": [
       "{'FLI1', 'FYN'}"
      ]
     },
     "execution_count": 82,
     "metadata": {},
     "output_type": "execute_result"
    }
   ],
   "source": [
    "top_20_coding_drivers = mes_critical_nodes.loc[mes_critical_nodes.Type==\"coding\"].node[:20].values\n",
    "validated_coding_candidate_drivers_mes.intersection(set(top_20_coding_drivers))"
   ]
  },
  {
   "cell_type": "code",
   "execution_count": 83,
   "metadata": {},
   "outputs": [
    {
     "data": {
      "text/plain": [
       "{'hsa-miR-17-5p', 'hsa-miR-182-5p', 'hsa-miR-23a-5p'}"
      ]
     },
     "execution_count": 83,
     "metadata": {},
     "output_type": "execute_result"
    }
   ],
   "source": [
    "top_20_noncoding_drivers = mes_critical_nodes.loc[mes_critical_nodes.Type==\"non-coding\"].node[:20].values\n",
    "validated_noncoding_candidate_drivers_mes.intersection(set(top_20_noncoding_drivers))"
   ]
  },
  {
   "cell_type": "markdown",
   "metadata": {},
   "source": [
    "## Compute p-values to get statistical significance"
   ]
  },
  {
   "cell_type": "code",
   "execution_count": 84,
   "metadata": {},
   "outputs": [
    {
     "name": "stdout",
     "output_type": "stream",
     "text": [
      "p_value for coding drivers of Mes: 0.5754677967598723\n"
     ]
    }
   ],
   "source": [
    "# Calculate p_value\n",
    "# Coding\n",
    "# Mes\n",
    "n_A = (mes_critical_nodes.Type==\"coding\").sum() # number of estimated drivers\n",
    "n_B = len(coding_gold_standard_mes_df) # number of signatures\n",
    "n_C = 839+5168 # number of genes\n",
    "n_A_B = len(validated_coding_candidate_drivers_mes) # number of drivers validated\n",
    "p_value = 1 - hypergeom.cdf(n_A_B, n_C, n_B, n_A)\n",
    "print(\"p_value for coding drivers of Mes: {0}\".format(p_value))"
   ]
  },
  {
   "cell_type": "code",
   "execution_count": 85,
   "metadata": {},
   "outputs": [
    {
     "name": "stdout",
     "output_type": "stream",
     "text": [
      "p_value for coding drivers of Mes: 3.0145885787646876e-12\n"
     ]
    }
   ],
   "source": [
    "n_A = (mes_critical_nodes.Type==\"non-coding\").sum() # number of estimated drivers\n",
    "n_B = len(noncoding_gold_standard_mes_df) # number of signatures\n",
    "n_C = 1719 # number of miRNA\n",
    "n_A_B = len(validated_noncoding_candidate_drivers_mes) # number of drivers validated\n",
    "p_value = 1 - hypergeom.cdf(n_A_B, n_C, n_B, n_A)\n",
    "print(\"p_value for coding drivers of Mes: {0}\".format(p_value))"
   ]
  }
 ],
 "metadata": {
  "kernelspec": {
   "display_name": "Python 3",
   "language": "python",
   "name": "python3"
  },
  "language_info": {
   "codemirror_mode": {
    "name": "ipython",
    "version": 3
   },
   "file_extension": ".py",
   "mimetype": "text/x-python",
   "name": "python",
   "nbconvert_exporter": "python",
   "pygments_lexer": "ipython3",
   "version": "3.7.2"
  }
 },
 "nbformat": 4,
 "nbformat_minor": 2
}
