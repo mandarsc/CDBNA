{
 "cells": [
  {
   "cell_type": "markdown",
   "metadata": {},
   "source": [
    "## Community Detection-based Node Importance for Identifying Coding Genes\n",
    "\n",
    "This notebook contains code for identifying important nodes in the cancer network. The cancer network was built in [1]. In this work, a community detection algorithm is used to partition the cancer network into communities and a centrality-based metric is implemented to compute the importance of each node in the network [2]. Specifically, the well-known Louvain algorithm is used for detecting communities, and a centrality-based metric is used to compute the importance of each node with respect to its community. \n",
    "\n",
    "The following steps are performed to compute the node importance and validate the important nodes,\n",
    "1. Build an undirected graph G using the edge list of the cancer network.\n",
    "2. Partition the graph into communities using the Louvain algorithm.\n",
    "3. Compute eigenvectors of the adjancency matrix of graph G.\n",
    "4. Compute node importance for each node in G using a centrality-based metric.\n",
    "5. Sort the coding genes in the cancer network in descending order.\n",
    "6. Validate the coding genes with gold standard CGC.\n",
    "\n",
    "### References:\n",
    "1. [Pham, Vu VH, Lin Liu, Cameron P. Bracken, Gregory J. Goodall, Qi Long, Jiuyong Li, and Thuc D. Le. \"CBNA: A control theory based method for identifying coding and non-coding cancer drivers.\" PLoS Computational Biology 15, no. 12 (2019).](https://journals.plos.org/ploscompbiol/article?id=10.1371/journal.pcbi.1007538#sec009)\n",
    "2. [Wang, Y., Di, Z., & Fan, Y. (2011). Identifying and characterizing nodes important to community structure using the spectrum of the graph. PloS one, 6(11).](https://journals.plos.org/plosone/article?id=10.1371/journal.pone.0027418)"
   ]
  },
  {
   "cell_type": "code",
   "execution_count": 1,
   "metadata": {},
   "outputs": [],
   "source": [
    "%load_ext autoreload\n",
    "%autoreload 2\n",
    "\n",
    "# Standard libraries\n",
    "from os.path import join\n",
    "\n",
    "# Libraries for graphs\n",
    "import community\n",
    "import networkx as nx\n",
    "\n",
    "# Libraries for matrix computations\n",
    "import numpy as np\n",
    "import pandas as pd\n",
    "\n",
    "# Libraries for sparse matrices and eigenvectors\n",
    "from scipy.sparse import diags\n",
    "from scipy.sparse.linalg import eigs\n",
    "from scipy.stats import pearsonr"
   ]
  },
  {
   "cell_type": "code",
   "execution_count": 32,
   "metadata": {},
   "outputs": [],
   "source": [
    "import logging"
   ]
  },
  {
   "cell_type": "code",
   "execution_count": null,
   "metadata": {},
   "outputs": [],
   "source": [
    "logging.ge"
   ]
  },
  {
   "cell_type": "code",
   "execution_count": 2,
   "metadata": {},
   "outputs": [],
   "source": [
    "def compute_node_importance(n_nodes, n_communities, eig_vectors):\n",
    "    \"\"\"\n",
    "    Computes node importance using a centrality-based metric which uses the eigenvectors of the adjacency matrix.\n",
    "    Args:\n",
    "        n_nodes: Number of nodes in the graph.\n",
    "        n_communities: Number of communities estimated.\n",
    "        eig_vectors: np.ndarray of size n x c where n is number of nodes and c is the number of communities.\n",
    "        The eigenvectors are computed from the adjacency matrix and are stored as columns.\n",
    "    Returns: \n",
    "        np.array: A numpy array containing the node importance score normalized by the\n",
    "        number of communities.\n",
    "    \"\"\"\n",
    "    p_k = [0] * n_nodes\n",
    "    I = [0] * n_nodes\n",
    "    for k in range(n_nodes):\n",
    "        for i in range(n_communities):\n",
    "            p_k[k] += eig_vectors[k, i]**2/np.sum(eig_vectors[:, i]**2)\n",
    "        I[k] = p_k[k]/n_communities\n",
    "    return np.array(I)"
   ]
  },
  {
   "cell_type": "code",
   "execution_count": 3,
   "metadata": {},
   "outputs": [],
   "source": [
    "DATA_DIR = \"/home/mandar/Data/NCSU/CBNA/cbna-community-detection/Data/\"\n",
    "OUT_DIR = \"/home/mandar/Data/NCSU/CBNA/cbna-community-detection/Output/\""
   ]
  },
  {
   "cell_type": "code",
   "execution_count": 4,
   "metadata": {},
   "outputs": [],
   "source": [
    "# Read cancer network data\n",
    "cancer_network = pd.read_csv(join(DATA_DIR, \"pVal_cancer_network.csv\"))\n",
    "\n",
    "# Read cancer data\n",
    "cancer_data = pd.read_csv(join(DATA_DIR, \"cancer_data.csv\"))\n",
    "\n",
    "# Load gold standard CGC\n",
    "gold_standard_cgc_df = pd.read_csv(join(DATA_DIR, \"Census_allFri Sep 28 07_39_37 2018.tsv\"), sep=\"\\t\")\n",
    "gold_standard_cgc = gold_standard_cgc_df[\"Gene Symbol\"]\n",
    "\n",
    "# Load mRNAs column names from BRCA_matchedData RData file\n",
    "mRNAs_df = pd.read_csv(join(DATA_DIR, \"mRNAs_data.csv\"))"
   ]
  },
  {
   "cell_type": "code",
   "execution_count": 5,
   "metadata": {},
   "outputs": [
    {
     "data": {
      "text/html": [
       "<div>\n",
       "<style scoped>\n",
       "    .dataframe tbody tr th:only-of-type {\n",
       "        vertical-align: middle;\n",
       "    }\n",
       "\n",
       "    .dataframe tbody tr th {\n",
       "        vertical-align: top;\n",
       "    }\n",
       "\n",
       "    .dataframe thead th {\n",
       "        text-align: right;\n",
       "    }\n",
       "</style>\n",
       "<table border=\"1\" class=\"dataframe\">\n",
       "  <thead>\n",
       "    <tr style=\"text-align: right;\">\n",
       "      <th></th>\n",
       "      <th>Unnamed: 0</th>\n",
       "      <th>hsa-let-7a-5p</th>\n",
       "      <th>hsa-let-7b-5p</th>\n",
       "      <th>hsa-let-7c-5p</th>\n",
       "      <th>hsa-let-7d-5p</th>\n",
       "      <th>hsa-let-7e-5p</th>\n",
       "      <th>hsa-let-7f-5p</th>\n",
       "      <th>hsa-let-7g-5p</th>\n",
       "      <th>hsa-let-7i-5p</th>\n",
       "      <th>hsa-miR-1-3p</th>\n",
       "      <th>...</th>\n",
       "      <th>ZNF764</th>\n",
       "      <th>ZNF768</th>\n",
       "      <th>ZNF775</th>\n",
       "      <th>ZNF8</th>\n",
       "      <th>ZNF83</th>\n",
       "      <th>ZNF91</th>\n",
       "      <th>ZSCAN16</th>\n",
       "      <th>ZSCAN20</th>\n",
       "      <th>ZSCAN21</th>\n",
       "      <th>ZXDC</th>\n",
       "    </tr>\n",
       "  </thead>\n",
       "  <tbody>\n",
       "    <tr>\n",
       "      <th>0</th>\n",
       "      <td>TCGA-EW-A1P4</td>\n",
       "      <td>12.994388</td>\n",
       "      <td>14.378198</td>\n",
       "      <td>11.546615</td>\n",
       "      <td>10.651545</td>\n",
       "      <td>10.807892</td>\n",
       "      <td>8.403284</td>\n",
       "      <td>9.420617</td>\n",
       "      <td>10.154370</td>\n",
       "      <td>1.191638</td>\n",
       "      <td>...</td>\n",
       "      <td>2.533052</td>\n",
       "      <td>5.790201</td>\n",
       "      <td>1.053708</td>\n",
       "      <td>2.901450</td>\n",
       "      <td>4.655640</td>\n",
       "      <td>3.708116</td>\n",
       "      <td>2.209807</td>\n",
       "      <td>2.001186</td>\n",
       "      <td>2.641918</td>\n",
       "      <td>5.656499</td>\n",
       "    </tr>\n",
       "    <tr>\n",
       "      <th>1</th>\n",
       "      <td>TCGA-OL-A5D7</td>\n",
       "      <td>12.222621</td>\n",
       "      <td>12.889247</td>\n",
       "      <td>9.436776</td>\n",
       "      <td>10.246441</td>\n",
       "      <td>8.817331</td>\n",
       "      <td>9.100132</td>\n",
       "      <td>10.788659</td>\n",
       "      <td>9.041260</td>\n",
       "      <td>0.247525</td>\n",
       "      <td>...</td>\n",
       "      <td>3.697387</td>\n",
       "      <td>6.229218</td>\n",
       "      <td>3.352287</td>\n",
       "      <td>2.466736</td>\n",
       "      <td>3.581223</td>\n",
       "      <td>2.964224</td>\n",
       "      <td>2.853394</td>\n",
       "      <td>1.076350</td>\n",
       "      <td>3.887751</td>\n",
       "      <td>5.704944</td>\n",
       "    </tr>\n",
       "    <tr>\n",
       "      <th>2</th>\n",
       "      <td>TCGA-GM-A2DI</td>\n",
       "      <td>14.788013</td>\n",
       "      <td>15.883161</td>\n",
       "      <td>12.544769</td>\n",
       "      <td>8.582312</td>\n",
       "      <td>11.219828</td>\n",
       "      <td>9.657708</td>\n",
       "      <td>10.197309</td>\n",
       "      <td>9.485176</td>\n",
       "      <td>0.871444</td>\n",
       "      <td>...</td>\n",
       "      <td>4.306762</td>\n",
       "      <td>6.314290</td>\n",
       "      <td>1.703591</td>\n",
       "      <td>2.814682</td>\n",
       "      <td>4.877576</td>\n",
       "      <td>5.657588</td>\n",
       "      <td>2.743309</td>\n",
       "      <td>2.883605</td>\n",
       "      <td>2.695927</td>\n",
       "      <td>5.954116</td>\n",
       "    </tr>\n",
       "    <tr>\n",
       "      <th>3</th>\n",
       "      <td>TCGA-D8-A1XC</td>\n",
       "      <td>13.421196</td>\n",
       "      <td>15.264008</td>\n",
       "      <td>7.830062</td>\n",
       "      <td>8.476702</td>\n",
       "      <td>9.545340</td>\n",
       "      <td>7.231684</td>\n",
       "      <td>8.672442</td>\n",
       "      <td>7.872247</td>\n",
       "      <td>-0.391719</td>\n",
       "      <td>...</td>\n",
       "      <td>4.557417</td>\n",
       "      <td>6.289612</td>\n",
       "      <td>2.691002</td>\n",
       "      <td>2.562511</td>\n",
       "      <td>5.205412</td>\n",
       "      <td>5.301122</td>\n",
       "      <td>2.332271</td>\n",
       "      <td>3.585772</td>\n",
       "      <td>3.227813</td>\n",
       "      <td>6.207622</td>\n",
       "    </tr>\n",
       "    <tr>\n",
       "      <th>4</th>\n",
       "      <td>TCGA-E2-A1AZ</td>\n",
       "      <td>12.602671</td>\n",
       "      <td>13.497989</td>\n",
       "      <td>12.312566</td>\n",
       "      <td>8.514709</td>\n",
       "      <td>9.765894</td>\n",
       "      <td>7.788895</td>\n",
       "      <td>7.858109</td>\n",
       "      <td>9.086874</td>\n",
       "      <td>0.195002</td>\n",
       "      <td>...</td>\n",
       "      <td>2.628138</td>\n",
       "      <td>5.856284</td>\n",
       "      <td>-0.111058</td>\n",
       "      <td>3.106091</td>\n",
       "      <td>5.975766</td>\n",
       "      <td>6.336993</td>\n",
       "      <td>3.025550</td>\n",
       "      <td>2.481297</td>\n",
       "      <td>4.025336</td>\n",
       "      <td>6.262658</td>\n",
       "    </tr>\n",
       "  </tbody>\n",
       "</table>\n",
       "<p>5 rows × 7727 columns</p>\n",
       "</div>"
      ],
      "text/plain": [
       "     Unnamed: 0  hsa-let-7a-5p  hsa-let-7b-5p  hsa-let-7c-5p  hsa-let-7d-5p  \\\n",
       "0  TCGA-EW-A1P4      12.994388      14.378198      11.546615      10.651545   \n",
       "1  TCGA-OL-A5D7      12.222621      12.889247       9.436776      10.246441   \n",
       "2  TCGA-GM-A2DI      14.788013      15.883161      12.544769       8.582312   \n",
       "3  TCGA-D8-A1XC      13.421196      15.264008       7.830062       8.476702   \n",
       "4  TCGA-E2-A1AZ      12.602671      13.497989      12.312566       8.514709   \n",
       "\n",
       "   hsa-let-7e-5p  hsa-let-7f-5p  hsa-let-7g-5p  hsa-let-7i-5p  hsa-miR-1-3p  \\\n",
       "0      10.807892       8.403284       9.420617      10.154370      1.191638   \n",
       "1       8.817331       9.100132      10.788659       9.041260      0.247525   \n",
       "2      11.219828       9.657708      10.197309       9.485176      0.871444   \n",
       "3       9.545340       7.231684       8.672442       7.872247     -0.391719   \n",
       "4       9.765894       7.788895       7.858109       9.086874      0.195002   \n",
       "\n",
       "   ...    ZNF764    ZNF768    ZNF775      ZNF8     ZNF83     ZNF91   ZSCAN16  \\\n",
       "0  ...  2.533052  5.790201  1.053708  2.901450  4.655640  3.708116  2.209807   \n",
       "1  ...  3.697387  6.229218  3.352287  2.466736  3.581223  2.964224  2.853394   \n",
       "2  ...  4.306762  6.314290  1.703591  2.814682  4.877576  5.657588  2.743309   \n",
       "3  ...  4.557417  6.289612  2.691002  2.562511  5.205412  5.301122  2.332271   \n",
       "4  ...  2.628138  5.856284 -0.111058  3.106091  5.975766  6.336993  3.025550   \n",
       "\n",
       "    ZSCAN20   ZSCAN21      ZXDC  \n",
       "0  2.001186  2.641918  5.656499  \n",
       "1  1.076350  3.887751  5.704944  \n",
       "2  2.883605  2.695927  5.954116  \n",
       "3  3.585772  3.227813  6.207622  \n",
       "4  2.481297  4.025336  6.262658  \n",
       "\n",
       "[5 rows x 7727 columns]"
      ]
     },
     "execution_count": 5,
     "metadata": {},
     "output_type": "execute_result"
    }
   ],
   "source": [
    "cancer_data.head()"
   ]
  },
  {
   "cell_type": "markdown",
   "metadata": {},
   "source": [
    "### Compute correlation between every pair of edges"
   ]
  },
  {
   "cell_type": "code",
   "execution_count": 6,
   "metadata": {},
   "outputs": [],
   "source": [
    "def computePearsonCorrelation(cancer_network: pd.DataFrame, cancer_data: pd.DataFrame) -> pd.DataFrame:\n",
    "    \"\"\"\n",
    "    This function computes pearson correlation coefficient for every pair of adjacent nodes in the cancer\n",
    "    network. The correlation coefficient is stored in the `correlation` column and its absolute value is\n",
    "    stored in the `weight` column. \n",
    "    Args:\n",
    "        cancer_network: Pandas dataframe containing edge list of the cancer network.\n",
    "        cancer_data: Pandas dataframe containing the expression level of nodes in the cancer network.\n",
    "    Returns:\n",
    "        pd.DataFrame containing 3 more columns added to cancer_network dataframe. \n",
    "    \"\"\"\n",
    "    correlation_coeffs = []\n",
    "    correlation_pvals = []\n",
    "    x = cancer_network.cause.values.tolist()\n",
    "    y = cancer_network.effect.values.tolist()\n",
    "\n",
    "    for x_i, y_i in zip(x, y):\n",
    "        corr, pval = pearsonr(cancer_data.loc[:, x_i], cancer_data.loc[:, y_i])\n",
    "        correlation_coeffs.append(corr)\n",
    "        correlation_pvals.append(pval)\n",
    "    cancer_network[\"correlation\"] = pd.Series(correlation_coeffs)\n",
    "    cancer_network[\"pval\"] = pd.Series(correlation_pvals)\n",
    "    cancer_network[\"weight\"] = cancer_network[\"correlation\"].abs()\n",
    "    return cancer_network"
   ]
  },
  {
   "cell_type": "code",
   "execution_count": 7,
   "metadata": {},
   "outputs": [
    {
     "data": {
      "text/html": [
       "<div>\n",
       "<style scoped>\n",
       "    .dataframe tbody tr th:only-of-type {\n",
       "        vertical-align: middle;\n",
       "    }\n",
       "\n",
       "    .dataframe tbody tr th {\n",
       "        vertical-align: top;\n",
       "    }\n",
       "\n",
       "    .dataframe thead th {\n",
       "        text-align: right;\n",
       "    }\n",
       "</style>\n",
       "<table border=\"1\" class=\"dataframe\">\n",
       "  <thead>\n",
       "    <tr style=\"text-align: right;\">\n",
       "      <th></th>\n",
       "      <th>cause</th>\n",
       "      <th>effect</th>\n",
       "      <th>correlation</th>\n",
       "      <th>pval</th>\n",
       "      <th>weight</th>\n",
       "    </tr>\n",
       "  </thead>\n",
       "  <tbody>\n",
       "    <tr>\n",
       "      <th>0</th>\n",
       "      <td>A1BG</td>\n",
       "      <td>ANXA7</td>\n",
       "      <td>-0.195811</td>\n",
       "      <td>6.848169e-08</td>\n",
       "      <td>0.195811</td>\n",
       "    </tr>\n",
       "    <tr>\n",
       "      <th>1</th>\n",
       "      <td>A1CF</td>\n",
       "      <td>SYNCRIP</td>\n",
       "      <td>0.096508</td>\n",
       "      <td>8.304506e-03</td>\n",
       "      <td>0.096508</td>\n",
       "    </tr>\n",
       "    <tr>\n",
       "      <th>2</th>\n",
       "      <td>A2M</td>\n",
       "      <td>ANXA6</td>\n",
       "      <td>0.167517</td>\n",
       "      <td>4.157256e-06</td>\n",
       "      <td>0.167517</td>\n",
       "    </tr>\n",
       "    <tr>\n",
       "      <th>3</th>\n",
       "      <td>A2M</td>\n",
       "      <td>ANXA7</td>\n",
       "      <td>-0.111640</td>\n",
       "      <td>2.245310e-03</td>\n",
       "      <td>0.111640</td>\n",
       "    </tr>\n",
       "    <tr>\n",
       "      <th>4</th>\n",
       "      <td>A2M</td>\n",
       "      <td>ATF7IP</td>\n",
       "      <td>0.191320</td>\n",
       "      <td>1.371506e-07</td>\n",
       "      <td>0.191320</td>\n",
       "    </tr>\n",
       "  </tbody>\n",
       "</table>\n",
       "</div>"
      ],
      "text/plain": [
       "  cause   effect  correlation          pval    weight\n",
       "0  A1BG    ANXA7    -0.195811  6.848169e-08  0.195811\n",
       "1  A1CF  SYNCRIP     0.096508  8.304506e-03  0.096508\n",
       "2   A2M    ANXA6     0.167517  4.157256e-06  0.167517\n",
       "3   A2M    ANXA7    -0.111640  2.245310e-03  0.111640\n",
       "4   A2M   ATF7IP     0.191320  1.371506e-07  0.191320"
      ]
     },
     "execution_count": 7,
     "metadata": {},
     "output_type": "execute_result"
    }
   ],
   "source": [
    "cancer_network = computePearsonCorrelation(cancer_network, cancer_data)\n",
    "cancer_network.head()"
   ]
  },
  {
   "cell_type": "markdown",
   "metadata": {},
   "source": [
    "### Step 1: Build an undirected graph G using the edge list of the cancer network"
   ]
  },
  {
   "cell_type": "code",
   "execution_count": 8,
   "metadata": {},
   "outputs": [],
   "source": [
    "def buildGraphFromEdgeList(cancer_network: pd.DataFrame, is_weighted=False) -> nx.Graph:\n",
    "    \"\"\"\n",
    "    This function builds a networkx graph object from the edge list. A boolean option is provided to build\n",
    "    a weighted undirected graph.\n",
    "    Args:\n",
    "        cancer_network: Pandas dataframe containing edge list of the cancer network.\n",
    "        is_weighted: boolean specifying whether a weighted graph should be created.\n",
    "    Returns:\n",
    "        nx.Graph object containing undirected edges between pairs of nodes specified in cancer_network dataframe.\n",
    "    \"\"\"\n",
    "    if is_weighted:\n",
    "        try:\n",
    "            # Build graph by reading the edge list of the cancer network\n",
    "            G = nx.from_pandas_edgelist(cancer_network, source=\"cause\", target=\"effect\", edge_attr=['weight'])\n",
    "        except:\n",
    "            raise ValueError(\"Dataframe does not contain a column containing edge weights\")\n",
    "    else:\n",
    "        # Build graph by reading the edge list of the cancer network\n",
    "        G = nx.from_pandas_edgelist(cancer_network, source=\"cause\", target=\"effect\")\n",
    "    print(\"Number of nodes: {0}, and number of edges: {1}\".format(len(G.nodes), len(G.edges)))\n",
    "    print(\"Graph weights: {0}\".format(G.size(weight='weight')))\n",
    "    return G"
   ]
  },
  {
   "cell_type": "code",
   "execution_count": 19,
   "metadata": {},
   "outputs": [
    {
     "name": "stdout",
     "output_type": "stream",
     "text": [
      "Number of nodes: 7357, and number of edges: 125867\n",
      "Graph weights: 23940.100269972296\n"
     ]
    }
   ],
   "source": [
    "G = buildGraphFromEdgeList(cancer_network, is_weighted=True)"
   ]
  },
  {
   "cell_type": "markdown",
   "metadata": {},
   "source": [
    "### Step 2: Partition the graph into communities using the Louvain algorithm"
   ]
  },
  {
   "cell_type": "code",
   "execution_count": 20,
   "metadata": {},
   "outputs": [],
   "source": [
    "def performCommunityDetection(G: nx.Graph) -> int:\n",
    "    \"\"\"\n",
    "    This function performs community detection on graph G using the Louvain algorithm.\n",
    "    Args:\n",
    "        G: nx.Graph object representing an undirected graph\n",
    "    Returns:\n",
    "        int specifying the number of communities detected in the graph.\n",
    "    \"\"\"\n",
    "    # Run community detection algorithm on graph G\n",
    "    partition = community.best_partition(G)\n",
    "    n_communities = len(set(partition.values()))\n",
    "    \n",
    "    print(f\"Number of communities in G: {n_communities}\")\n",
    "    \n",
    "    return n_communities"
   ]
  },
  {
   "cell_type": "code",
   "execution_count": 21,
   "metadata": {},
   "outputs": [
    {
     "name": "stdout",
     "output_type": "stream",
     "text": [
      "Number of communities in G: 13\n"
     ]
    }
   ],
   "source": [
    "n_communities = performCommunityDetection(G)"
   ]
  },
  {
   "cell_type": "markdown",
   "metadata": {},
   "source": [
    "### Step 3: Compute eigenvectors of the adjancency matrix of graph G"
   ]
  },
  {
   "cell_type": "code",
   "execution_count": 22,
   "metadata": {},
   "outputs": [],
   "source": [
    "def computeEigenvectors(G: nx.Graph, n_communities: int) -> np.ndarray:\n",
    "    \"\"\"\n",
    "    This function computes the eigenvectors of the adjacency matrix. The number of eigenvectors returned \n",
    "    is specified by the n_communities integer. \n",
    "    \"\"\"\n",
    "    # Create adjacency matrix of graph G\n",
    "    A = nx.adjacency_matrix(G)\n",
    "    \n",
    "    # Compute eigenvalues and eigenvectors of the adjacency matrix A\n",
    "    _, adj_eig_vectors = eigs(A.toarray().astype(float), k=n_communities, which='LR')\n",
    "    \n",
    "    return adj_eig_vectors"
   ]
  },
  {
   "cell_type": "code",
   "execution_count": 23,
   "metadata": {},
   "outputs": [],
   "source": [
    "adj_eigen_vectors = computeEigenvectors(G, n_communities)"
   ]
  },
  {
   "cell_type": "markdown",
   "metadata": {},
   "source": [
    "### Step 4: Compute node importance for each node in G using a centrality-based metric"
   ]
  },
  {
   "cell_type": "code",
   "execution_count": 24,
   "metadata": {},
   "outputs": [],
   "source": [
    "# Compute node importance index I using the eigenvectors of the adjacency matrix\n",
    "I = compute_node_importance(G.number_of_nodes(), n_communities, np.real(adj_eigen_vectors))"
   ]
  },
  {
   "cell_type": "markdown",
   "metadata": {},
   "source": [
    "## Select top-K important nodes in the network"
   ]
  },
  {
   "cell_type": "markdown",
   "metadata": {},
   "source": [
    "### Step 5: Sort the coding genes in the cancer network in descending order"
   ]
  },
  {
   "cell_type": "code",
   "execution_count": 25,
   "metadata": {},
   "outputs": [],
   "source": [
    "def buildNodeImportanceDataFrame(G: nx.Graph, I: np.array) -> pd.DataFrame:\n",
    "    \"\"\"\n",
    "    This function builds a dataframe containing two columns. First column contains the names of the nodes in\n",
    "    graph G and second column contains their importance score. The nodes are sorted in descending order\n",
    "    of their importance score.\n",
    "    Args:\n",
    "        G: networkx graph object\n",
    "        I: numpy array containing importance score.\n",
    "    Returns:\n",
    "        pd.DataFrame containing node names and their importance score.\n",
    "    \"\"\"\n",
    "    # Get list of all nodes in the cancer network\n",
    "    nodes = list(G.nodes)\n",
    "    # Sort the nodes by their importance score in descending order\n",
    "    important_nodes = [nodes[i] for i in np.argsort(I)[::-1]]\n",
    "    node_importance = np.sort(I)[::-1]\n",
    "    # Build a dataframe with two columns, one containing node name and second containing importance score\n",
    "    node_importance_df = pd.concat([pd.Series(important_nodes), pd.Series(node_importance)], axis=1)\n",
    "    node_importance_df.columns = ['node', 'importance']\n",
    "    return node_importance_df"
   ]
  },
  {
   "cell_type": "code",
   "execution_count": 26,
   "metadata": {},
   "outputs": [],
   "source": [
    "node_importance_df = buildNodeImportanceDataFrame(G, I)"
   ]
  },
  {
   "cell_type": "markdown",
   "metadata": {},
   "source": [
    "### Step 6: Validate the coding genes with gold standard CGC"
   ]
  },
  {
   "cell_type": "code",
   "execution_count": 27,
   "metadata": {
    "scrolled": true
   },
   "outputs": [],
   "source": [
    "def validateTopKCodingGenes(node_importance_df: pd.DataFrame, mRNAs_df: pd.DataFrame, gold_standard_cgc: pd.Series):\n",
    "    \"\"\"\n",
    "    This function performs the following steps,\n",
    "        1. Find the coding genes in the cancer network by matching the node names with those in mRNAs data\n",
    "        2. Select the top-K coding genes found in the cancer network and validate them against the gold standard cgc.\n",
    "        3. Save the results to a csv file.\n",
    "    Args:\n",
    "        node_importance_df: Pandas dataframe containig nodes sorted in descending order of their importance\n",
    "        scores.\n",
    "        mRNAs_data: Pandas dataframe with columns containing names of coding genes.\n",
    "        gold_standard_cgc: Pandas series containing gold standard coding genes\n",
    "    \"\"\"\n",
    "    # Step 1: Find coding genes in the cancer network\n",
    "    # Perform intersection of the nodes in the cancer network and the mRNAs\n",
    "    coding_genes = node_importance_df.loc[node_importance_df.node.isin(mRNAs_df.columns), ]\n",
    "    # Select top-K coding genes and save the results to csv files\n",
    "    top_k = [50, 100, 150, 200]\n",
    "    for K in top_k:\n",
    "        top_k_coding_genes = coding_genes.iloc[:K, ].copy()\n",
    "        # Step 2: Validate top-k coding genes against the gold standard cgc\n",
    "        coding_genes_gold_standard = top_k_coding_genes.loc[top_k_coding_genes.node.isin(gold_standard_cgc)]\n",
    "        print(\"Coding genes in top-{0}: {1}\".format(K, coding_genes_gold_standard.shape[0]))\n",
    "        \n",
    "        # Step 3: Save the results in a csv file\n",
    "        coding_genes_gold_standard.to_csv(join(OUT_DIR, \"top_{0}_coding_genes_gold_standard_validation.csv\".format(K)))"
   ]
  },
  {
   "cell_type": "code",
   "execution_count": 28,
   "metadata": {},
   "outputs": [
    {
     "name": "stdout",
     "output_type": "stream",
     "text": [
      "Coding genes in top-50: 24\n",
      "Coding genes in top-100: 47\n",
      "Coding genes in top-150: 65\n",
      "Coding genes in top-200: 76\n"
     ]
    }
   ],
   "source": [
    "validateTopKCodingGenes(node_importance_df, mRNAs_df, gold_standard_cgc)"
   ]
  }
 ],
 "metadata": {
  "kernelspec": {
   "display_name": "Python 3",
   "language": "python",
   "name": "python3"
  },
  "language_info": {
   "codemirror_mode": {
    "name": "ipython",
    "version": 3
   },
   "file_extension": ".py",
   "mimetype": "text/x-python",
   "name": "python",
   "nbconvert_exporter": "python",
   "pygments_lexer": "ipython3",
   "version": "3.7.5"
  }
 },
 "nbformat": 4,
 "nbformat_minor": 4
}
