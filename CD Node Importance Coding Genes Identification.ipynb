{
 "cells": [
  {
   "cell_type": "markdown",
   "metadata": {},
   "source": [
    "## Community Detection-based Node Importance for Identifying Coding Genes\n",
    "\n",
    "This notebook contains code for identifying important nodes in the cancer network. The cancer network was built in [1]. In this work, a community detection algorithm is used to partition the cancer network into communities and a centrality-based metric is implemented to compute the importance of each node in the network [2]. Specifically, the well-known Louvain algorithm is used for detecting communities, and a centrality-based metric is used to compute the importance of each node with respect to its community. \n",
    "\n",
    "The following steps are performed to compute the node importance and validate the important nodes,\n",
    "1. Build an undirected graph G using the edge list of the cancer network.\n",
    "2. Partition the graph into communities using the Louvain algorithm.\n",
    "3. Compute eigenvectors of the adjancency matrix of graph G.\n",
    "4. Compute node importance for each node in G using a centrality-based metric.\n",
    "5. Sort the coding genes in the cancer network in descending order.\n",
    "6. Validate the coding genes with gold standard CGC.\n",
    "\n",
    "### References:\n",
    "1. [Pham, Vu VH, Lin Liu, Cameron P. Bracken, Gregory J. Goodall, Qi Long, Jiuyong Li, and Thuc D. Le. \"CBNA: A control theory based method for identifying coding and non-coding cancer drivers.\" PLoS Computational Biology 15, no. 12 (2019).](https://journals.plos.org/ploscompbiol/article?id=10.1371/journal.pcbi.1007538#sec009)\n",
    "2. [Wang, Y., Di, Z., & Fan, Y. (2011). Identifying and characterizing nodes important to community structure using the spectrum of the graph. PloS one, 6(11).](https://journals.plos.org/plosone/article?id=10.1371/journal.pone.0027418)"
   ]
  },
  {
   "cell_type": "code",
   "execution_count": 1,
   "metadata": {},
   "outputs": [],
   "source": [
    "%load_ext autoreload\n",
    "%autoreload 2\n",
    "\n",
    "# Standard libraries\n",
    "from os.path import join\n",
    "\n",
    "# Libraries for graphs\n",
    "import community\n",
    "import networkx as nx\n",
    "\n",
    "# Libraries for matrix computations\n",
    "import numpy as np\n",
    "import pandas as pd\n",
    "\n",
    "# Libraries for sparse matrices and eigenvectors\n",
    "from scipy.sparse import diags\n",
    "from scipy.sparse.linalg import eigs"
   ]
  },
  {
   "cell_type": "code",
   "execution_count": 2,
   "metadata": {},
   "outputs": [],
   "source": [
    "def compute_node_importance(n_nodes, n_communities, eig_vectors):\n",
    "    \"\"\"\n",
    "    Computes node importance using a centrality-based metric which uses the eigenvectors of the adjacency matrix.\n",
    "    Args:\n",
    "        n_nodes: Number of nodes in the graph.\n",
    "        n_communities: Number of communities estimated.\n",
    "        eig_vectors: np.ndarray of size n x c where n is number of nodes and c is the number of communities.\n",
    "        The eigenvectors are computed from the adjacency matrix and are stored as columns.\n",
    "    Returns: \n",
    "        np.array: A numpy array containing the node importance score normalized by the\n",
    "        number of communities.\n",
    "    \"\"\"\n",
    "    p_k = [0] * n_nodes\n",
    "    I = [0] * n_nodes\n",
    "    for k in range(n_nodes):\n",
    "        for i in range(n_communities):\n",
    "            p_k[k] += eig_vectors[k, i]**2/np.sum(eig_vectors[:, i]**2)\n",
    "        I[k] = p_k[k]/n_communities\n",
    "    return np.array(I)"
   ]
  },
  {
   "cell_type": "code",
   "execution_count": 3,
   "metadata": {},
   "outputs": [],
   "source": [
    "# Read cancer network data\n",
    "DATA_DIR = \"/home/mandar/Data/NCSU/CBNA/cbna-community-detection/Data/\"\n",
    "OUT_DIR = \"/home/mandar/Data/NCSU/CBNA/cbna-community-detection/Output/\""
   ]
  },
  {
   "cell_type": "code",
   "execution_count": 4,
   "metadata": {},
   "outputs": [],
   "source": [
    "cancer_network = pd.read_csv(DATA_DIR + \"pVal_cancer_network.csv\")"
   ]
  },
  {
   "cell_type": "code",
   "execution_count": 5,
   "metadata": {},
   "outputs": [
    {
     "data": {
      "text/plain": [
       "(128264, 2)"
      ]
     },
     "execution_count": 5,
     "metadata": {},
     "output_type": "execute_result"
    }
   ],
   "source": [
    "cancer_network.shape"
   ]
  },
  {
   "cell_type": "markdown",
   "metadata": {},
   "source": [
    "### Step 1: Build an undirected graph G using the edge list of the cancer network"
   ]
  },
  {
   "cell_type": "code",
   "execution_count": 6,
   "metadata": {},
   "outputs": [],
   "source": [
    "# Build graph by reading the edge list of the cancer network\n",
    "G = nx.from_pandas_edgelist(cancer_network, source=\"cause\", target=\"effect\")"
   ]
  },
  {
   "cell_type": "code",
   "execution_count": 7,
   "metadata": {},
   "outputs": [
    {
     "name": "stdout",
     "output_type": "stream",
     "text": [
      "Number of nodes: 7357, and number of edges: 125867\n"
     ]
    }
   ],
   "source": [
    "print(\"Number of nodes: {0}, and number of edges: {1}\".format(len(G.nodes), len(G.edges)))"
   ]
  },
  {
   "cell_type": "markdown",
   "metadata": {},
   "source": [
    "### Step 2: Partition the graph into communities using the Louvain algorithm"
   ]
  },
  {
   "cell_type": "code",
   "execution_count": 8,
   "metadata": {},
   "outputs": [],
   "source": [
    "# Run community detection algorithm on graph G\n",
    "partition = community.best_partition(G)"
   ]
  },
  {
   "cell_type": "code",
   "execution_count": 38,
   "metadata": {},
   "outputs": [],
   "source": [
    "k_clique_communities = nx.algorithms.community.k_clique_communities(G, k=2)"
   ]
  },
  {
   "cell_type": "code",
   "execution_count": null,
   "metadata": {},
   "outputs": [],
   "source": [
    "list(k_clique_communities)[0]"
   ]
  },
  {
   "cell_type": "code",
   "execution_count": 31,
   "metadata": {},
   "outputs": [
    {
     "name": "stdout",
     "output_type": "stream",
     "text": [
      "Number of communities in G: 12\n"
     ]
    }
   ],
   "source": [
    "n_communities = len(set(partition.values()))\n",
    "print(f\"Number of communities in G: {n_communities}\")"
   ]
  },
  {
   "cell_type": "markdown",
   "metadata": {},
   "source": [
    "### Step 3: Compute eigenvectors of the adjancency matrix of graph G"
   ]
  },
  {
   "cell_type": "code",
   "execution_count": 10,
   "metadata": {},
   "outputs": [],
   "source": [
    "# Create adjacency matrix of graph G\n",
    "A = nx.adjacency_matrix(G)"
   ]
  },
  {
   "cell_type": "code",
   "execution_count": 11,
   "metadata": {},
   "outputs": [],
   "source": [
    "# Compute eigenvalues and eigenvectors of the adjacency matrix A\n",
    "adj_eig_vals, adj_eig_vecs = eigs(A.toarray().astype(float), k=n_communities, which='LR')"
   ]
  },
  {
   "cell_type": "markdown",
   "metadata": {},
   "source": [
    "### Step 4: Compute node importance for each node in G using a centrality-based metric"
   ]
  },
  {
   "cell_type": "code",
   "execution_count": 12,
   "metadata": {},
   "outputs": [],
   "source": [
    "# Compute node importance index I using the eigenvectors of the adjacency matrix\n",
    "I = compute_node_importance(G.number_of_nodes(), n_communities, np.real(adj_eig_vecs))"
   ]
  },
  {
   "cell_type": "markdown",
   "metadata": {},
   "source": [
    "## Select top-K important nodes in the network"
   ]
  },
  {
   "cell_type": "markdown",
   "metadata": {},
   "source": [
    "### Step 5: Sort the coding genes in the cancer network in descending order"
   ]
  },
  {
   "cell_type": "code",
   "execution_count": 13,
   "metadata": {},
   "outputs": [],
   "source": [
    "# Get list of all nodes in the cancer network\n",
    "nodes = list(G.nodes)"
   ]
  },
  {
   "cell_type": "code",
   "execution_count": 14,
   "metadata": {},
   "outputs": [],
   "source": [
    "# Sort the nodes by their importance score in descending order\n",
    "important_nodes = [nodes[i] for i in np.argsort(I)[::-1]]\n",
    "node_importance = np.sort(I)[::-1]"
   ]
  },
  {
   "cell_type": "code",
   "execution_count": 15,
   "metadata": {},
   "outputs": [],
   "source": [
    "# Build a dataframe with two columns, one containing node name and second containing importance score\n",
    "node_importance_df = pd.concat([pd.Series(important_nodes), pd.Series(node_importance)], axis=1)"
   ]
  },
  {
   "cell_type": "code",
   "execution_count": 16,
   "metadata": {},
   "outputs": [],
   "source": [
    "node_importance_df.columns = ['node', 'importance']"
   ]
  },
  {
   "cell_type": "code",
   "execution_count": 17,
   "metadata": {},
   "outputs": [
    {
     "data": {
      "text/plain": [
       "(7357, 2)"
      ]
     },
     "execution_count": 17,
     "metadata": {},
     "output_type": "execute_result"
    }
   ],
   "source": [
    "# Print shape of the node importance dataframe\n",
    "node_importance_df.shape"
   ]
  },
  {
   "cell_type": "code",
   "execution_count": 18,
   "metadata": {},
   "outputs": [
    {
     "data": {
      "text/html": [
       "<div>\n",
       "<style scoped>\n",
       "    .dataframe tbody tr th:only-of-type {\n",
       "        vertical-align: middle;\n",
       "    }\n",
       "\n",
       "    .dataframe tbody tr th {\n",
       "        vertical-align: top;\n",
       "    }\n",
       "\n",
       "    .dataframe thead th {\n",
       "        text-align: right;\n",
       "    }\n",
       "</style>\n",
       "<table border=\"1\" class=\"dataframe\">\n",
       "  <thead>\n",
       "    <tr style=\"text-align: right;\">\n",
       "      <th></th>\n",
       "      <th>node</th>\n",
       "      <th>importance</th>\n",
       "    </tr>\n",
       "  </thead>\n",
       "  <tbody>\n",
       "    <tr>\n",
       "      <th>0</th>\n",
       "      <td>hsa-miR-30e-5p</td>\n",
       "      <td>0.018119</td>\n",
       "    </tr>\n",
       "    <tr>\n",
       "      <th>1</th>\n",
       "      <td>hsa-miR-23b-5p</td>\n",
       "      <td>0.015602</td>\n",
       "    </tr>\n",
       "    <tr>\n",
       "      <th>2</th>\n",
       "      <td>hsa-miR-23a-5p</td>\n",
       "      <td>0.015300</td>\n",
       "    </tr>\n",
       "    <tr>\n",
       "      <th>3</th>\n",
       "      <td>hsa-miR-16-5p</td>\n",
       "      <td>0.013795</td>\n",
       "    </tr>\n",
       "    <tr>\n",
       "      <th>4</th>\n",
       "      <td>hsa-miR-92a-1-5p</td>\n",
       "      <td>0.013278</td>\n",
       "    </tr>\n",
       "  </tbody>\n",
       "</table>\n",
       "</div>"
      ],
      "text/plain": [
       "               node  importance\n",
       "0    hsa-miR-30e-5p    0.018119\n",
       "1    hsa-miR-23b-5p    0.015602\n",
       "2    hsa-miR-23a-5p    0.015300\n",
       "3     hsa-miR-16-5p    0.013795\n",
       "4  hsa-miR-92a-1-5p    0.013278"
      ]
     },
     "execution_count": 18,
     "metadata": {},
     "output_type": "execute_result"
    }
   ],
   "source": [
    "node_importance_df.head()"
   ]
  },
  {
   "cell_type": "code",
   "execution_count": 19,
   "metadata": {},
   "outputs": [],
   "source": [
    "node_importance_df.to_csv(OUT_DIR + 'community_detection_node_importance.csv')"
   ]
  },
  {
   "cell_type": "markdown",
   "metadata": {},
   "source": [
    "### Step 6: Validate the coding genes with gold standard CGC"
   ]
  },
  {
   "cell_type": "code",
   "execution_count": 20,
   "metadata": {},
   "outputs": [],
   "source": [
    "# Load gold standard CGC\n",
    "gold_standard_cgc_df = pd.read_csv(join(DATA_DIR, \"Census_allFri Sep 28 07_39_37 2018.tsv\"), sep=\"\\t\")"
   ]
  },
  {
   "cell_type": "code",
   "execution_count": 21,
   "metadata": {},
   "outputs": [],
   "source": [
    "gold_standard_cgc = gold_standard_cgc_df[\"Gene Symbol\"]"
   ]
  },
  {
   "cell_type": "code",
   "execution_count": 22,
   "metadata": {},
   "outputs": [],
   "source": [
    "# Load mRNAs column names from BRCA_matchedData RData file\n",
    "mRNAs_data = pd.read_csv(join(DATA_DIR, \"mRNAs_data.csv\"))"
   ]
  },
  {
   "cell_type": "code",
   "execution_count": 23,
   "metadata": {},
   "outputs": [],
   "source": [
    "# Find coding genes in the cancer network\n",
    "# Perform intersection of the nodes in the cancer network and the mRNAs\n",
    "coding_genes = node_importance_df.loc[node_importance_df.node.isin(mRNAs_data.columns), ]"
   ]
  },
  {
   "cell_type": "code",
   "execution_count": 24,
   "metadata": {},
   "outputs": [
    {
     "data": {
      "text/plain": [
       "(5922, 2)"
      ]
     },
     "execution_count": 24,
     "metadata": {},
     "output_type": "execute_result"
    }
   ],
   "source": [
    "coding_genes.shape"
   ]
  },
  {
   "cell_type": "code",
   "execution_count": 25,
   "metadata": {
    "scrolled": true
   },
   "outputs": [
    {
     "name": "stdout",
     "output_type": "stream",
     "text": [
      "Coding genes in top-50: 25\n",
      "Coding genes in top-100: 39\n",
      "Coding genes in top-150: 53\n",
      "Coding genes in top-200: 65\n"
     ]
    }
   ],
   "source": [
    "# Select top-K coding genes and save the results to csv files\n",
    "top_k = [50, 100, 150, 200]\n",
    "for K in top_k:\n",
    "    top_100_coding_genes = coding_genes.iloc[:K, ].copy()\n",
    "    coding_genes_gold_standard = top_100_coding_genes.loc[top_100_coding_genes.node.isin(gold_standard_cgc)]\n",
    "    print(\"Coding genes in top-{0}: {1}\".format(K, coding_genes_gold_standard.shape[0]))\n",
    "    coding_genes_gold_standard.to_csv(join(OUT_DIR, \"top_{0}_coding_genes_gold_standard_validation.csv\".format(K)))"
   ]
  }
 ],
 "metadata": {
  "kernelspec": {
   "display_name": "Python 3",
   "language": "python",
   "name": "python3"
  },
  "language_info": {
   "codemirror_mode": {
    "name": "ipython",
    "version": 3
   },
   "file_extension": ".py",
   "mimetype": "text/x-python",
   "name": "python",
   "nbconvert_exporter": "python",
   "pygments_lexer": "ipython3",
   "version": "3.7.5"
  }
 },
 "nbformat": 4,
 "nbformat_minor": 4
}
